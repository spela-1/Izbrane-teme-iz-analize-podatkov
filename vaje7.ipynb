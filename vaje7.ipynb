{
 "cells": [
  {
   "cell_type": "markdown",
   "metadata": {},
   "source": [
    "# Vaje 7: Nevronske mreže 1"
   ]
  },
  {
   "cell_type": "markdown",
   "metadata": {},
   "source": [
    "## Naloga 1: Usmerjene (feedforward) nevronske mreže "
   ]
  },
  {
   "cell_type": "markdown",
   "metadata": {},
   "source": [
    "Z ukazom `pip3 install torch torchvision` si inštaliraj paket [PyTorch](https://pytorch.org/get-started/locally/), ki ga bomo uporabljali za nevronske mreže in ukazom `pip3 install tqdm` paket [tqdm](https://github.com/tqdm/tqdm), ki ga bomo uporabljali za izpisovanje sprotnih rezultatov\n"
   ]
  },
  {
   "cell_type": "code",
   "execution_count": 6,
   "metadata": {},
   "outputs": [],
   "source": [
    "import numpy as np\n",
    "import matplotlib.pyplot as plt\n",
    "import torch\n",
    "import torch.nn as nn\n",
    "import torchvision.transforms as transform\n",
    "from torchvision.datasets import MNIST\n",
    "from tqdm import tqdm"
   ]
  },
  {
   "cell_type": "markdown",
   "metadata": {},
   "source": [
    "Naložimo podatkovno množico. Uporabljali bomo slike števk, za katere bomo poskusili napovedati, katera števka je na sliki."
   ]
  },
  {
   "cell_type": "code",
   "execution_count": 7,
   "metadata": {},
   "outputs": [],
   "source": [
    "batch_size = 32\n",
    "\n",
    "train_set = MNIST('../Podatki/', train=True, download=True, \n",
    "                  transform=transform.Compose([transform.ToTensor(), transform.Normalize((0.1307,), (0.3081,))]))\n",
    "\n",
    "test_set = MNIST('../Podatki/', train=False, download=True, \n",
    "                 transform=transform.Compose([transform.ToTensor(), transform.Normalize((0.1307,), (0.3081,))]))"
   ]
  },
  {
   "cell_type": "markdown",
   "metadata": {},
   "source": [
    "Poglejmo si, kako naši podatki zgledajo"
   ]
  },
  {
   "cell_type": "code",
   "execution_count": 3,
   "metadata": {},
   "outputs": [
    {
     "data": {
      "image/png": "[encoded data removed]",
      "text/plain": [
       "<Figure size 640x480 with 1 Axes>"
      ]
     },
     "metadata": {},
     "output_type": "display_data"
    },
    {
     "data": {
      "image/png": "[encoded data removed]",
      "text/plain": [
       "<Figure size 640x480 with 1 Axes>"
      ]
     },
     "metadata": {},
     "output_type": "display_data"
    },
    {
     "name": "stdout",
     "output_type": "stream",
     "text": [
      "Label 5\n"
     ]
    }
   ],
   "source": [
    "# Prvi učni primer pretvorimo v numpy array in ga izrišemo\n",
    "first_image = train_set[0][0].numpy()[0, :, :]\n",
    "plt.imshow(first_image, cmap=\"Greys\")\n",
    "plt.show()\n",
    "\n",
    "# Vhodni podatki v usmerjeno nevronsko mrežo bodo vektorji. Zato sliko pretvorimo v vektor (lepimo vrstice eno za drugo). Za lepše viden izris ta vektor 100-krat skopiramo \n",
    "plt.imshow(np.repeat(first_image.reshape((28*28, 1)).T, repeats=100, axis=0), cmap=\"Greys\")\n",
    "plt.show()\n",
    "\n",
    "# Izpišemo ciljno vrednost prvega učnega podatka\n",
    "print(f\"Label {train_set[0][1]}\")"
   ]
  },
  {
   "cell_type": "markdown",
   "metadata": {},
   "source": [
    "Sestavimo napovedni model, ga natrenirajmo in potestiramo"
   ]
  },
  {
   "cell_type": "code",
   "execution_count": 4,
   "metadata": {},
   "outputs": [],
   "source": [
    "# Definirajmo našo nevronsko mrežo\n",
    "class NeuralNetwork(nn.Module):\n",
    "    def __init__(self):\n",
    "        super().__init__()\n",
    "        # Definiramo objekt, ki bo sliko spremenil v vektor\n",
    "        self.flatten = nn.Flatten()\n",
    "        # Definiramo sloje naše nevronske mreže\n",
    "        self.linear_relu_stack = nn.Sequential(\n",
    "            # Polno povezan sloj z vhodno dimenzijo 28*28 in izhodno dimenzijo 64\n",
    "            nn.Linear(28*28, 64),\n",
    "            # Aktivacijska funkcija ReLu\n",
    "            nn.ReLU(),\n",
    "            nn.Linear(64, 20),\n",
    "            nn.ReLU(),\n",
    "            nn.Linear(20, 10)\n",
    "        )\n",
    "        # Definiramo še objekt, ki bo izhod pretvoril v \"verjetnosti\" (pozitivne vrednosti, ki se šeštejejo v 1)\n",
    "        # parameter dim=1 nam to naredi po drugi (1-ti) dimenziji. Vsak podatek po prvi (0-ti) dimenziji je ena slika v skupini (batchu)\n",
    "        self.softmax = nn.Softmax(dim=1)\n",
    "        \n",
    "\n",
    "    def forward(self, x):\n",
    "        # Vhodno sliko pretvorimo v vektor\n",
    "        x = self.flatten(x)\n",
    "        # Vektor pošljemo čez vse sloje in aktivacijske vrednosti\n",
    "        logits = self.linear_relu_stack(x)\n",
    "        # Izhod iz nevronske mreže pretvorimo v \"verjetnosti\" za vsako ciljno vrednost\n",
    "        return self.softmax(logits)"
   ]
  },
  {
   "cell_type": "code",
   "execution_count": 8,
   "metadata": {},
   "outputs": [],
   "source": [
    "# Naredimo funkcijo, ki bo natrenirala naš model\n",
    "def train(epochs, model, trainset, batch_size, learning_rate=0.01):\n",
    "    \n",
    "    trainloader = torch.utils.data.DataLoader(trainset, batch_size=batch_size, shuffle=True)\n",
    "    \n",
    "    # Zagotovimo, da bo model v načinu treniranja, kjer se računajo gradienti in so aktivni vsi sloji (med evalvacijo niso nujno vsi aktivni, npr. Dropout, BatchNormalization, ...)\n",
    "    model.train()\n",
    "    \n",
    "    # Definiramo naš optimizator. V našem primeru bo to stohastični gradientni spust (SGD) z learning rate-om 0.01\n",
    "    # Lahko bi uporabili tudi Adam naprimer\n",
    "    optimizer = torch.optim.SGD(model.parameters(), lr=learning_rate)\n",
    "    \n",
    "    # Definiramo našo funkcijo izgube (loss). V našem primeru bo to prečna entropija.\n",
    "    criterion = nn.CrossEntropyLoss()\n",
    "    \n",
    "    # Gremo čež epohe\n",
    "    for epoch in range(epochs):\n",
    "\n",
    "        running_loss = 0.0\n",
    "        # Uporabimo funkcijo tqdm.tqdm, ki nam bo lepše, v realnem času izpisovala napredek učenja\n",
    "        with tqdm(total=len(trainloader)*batch_size, desc=f'Training - Epoch: {epoch + 1}/{epochs}', unit='chunks') as prog_bar:\n",
    "            # Gremo čez vse podatke v skupinah po batch_size z trainloaderjem, v našem primeru je to 32\n",
    "            for i, data in enumerate(trainloader, 0):\n",
    "                # Podatke razpakiramo v vhode in izhode (labele)\n",
    "                inputs, labels = data\n",
    "\n",
    "                # Počistimo (resetiramo) gradiente v podatkih\n",
    "                optimizer.zero_grad()\n",
    "\n",
    "                # Vhodne podatke spustimo čez model, ta nam vrne matriko, v kateri se vsaka vrstica sešteje v 1 (zaradi Softmax sloja)\n",
    "                outputs = model(inputs)\n",
    "                # Izračunamo izgubo\n",
    "                loss = criterion(outputs, labels)\n",
    "                # Naredimo vzvratno razširanje napake (backpropagation)\n",
    "                loss.backward()\n",
    "                # Naredimo en korak optimizacije\n",
    "                optimizer.step()\n",
    "\n",
    "                # Dodamo izgubo k naši vsoti izgube. S funkcijo detach poskrbimo, da ne prištejemo (in si tako shranimo) tudi gradienta\n",
    "                # s funkcijo item() pa da se le vrednost in ne celoten vektor\n",
    "                running_loss += loss.detach().item()\n",
    "\n",
    "                # Posodobimo vrednosti funkcije tqdm.tqdm. Vsoto dosedanje izgube delimo s številom skupin, ki smo jih že obdelali\n",
    "                prog_bar.set_postfix(**{'loss': (running_loss) / (i+1)})\n",
    "                # Posodobimo progress bar\n",
    "                prog_bar.update(batch_size)\n",
    "\n",
    "    print('Finished Training')"
   ]
  },
  {
   "cell_type": "code",
   "execution_count": 9,
   "metadata": {},
   "outputs": [],
   "source": [
    "def test(model, testset, batch_size):\n",
    "    \n",
    "    testloader = torch.utils.data.DataLoader(testset, batch_size=batch_size, shuffle=True)\n",
    "    criterion = nn.CrossEntropyLoss()\n",
    "    # Model damo v način evalvacije. Tu se gradienti ne računajo in da se nekateri sloji deaktivirajo\n",
    "    model.eval()\n",
    "    test_loss = 0\n",
    "    correct = 0\n",
    "    counter = 0\n",
    "    \n",
    "    # Dodatno poskrbimo, da vektorji ne vsebujejo gradientov\n",
    "    with torch.no_grad():\n",
    "        with tqdm(total=len(testloader)*batch_size, desc=f'Testing', unit='chunks') as prog_bar:\n",
    "            for i, data in enumerate(testloader, 0):\n",
    "                inputs, labels = data\n",
    "                output = model(inputs)\n",
    "                test_loss += criterion(output, labels).detach().item()\n",
    "                # Izberemo indekse mesta z najvišjo vrednostjo (\"verjetnostjo\")\n",
    "                pred = output.data.max(1, keepdim=True)[1]\n",
    "                # Prištejemo število primerov, kjer smo zadeli pravilno števko\n",
    "                correct += pred.eq(labels.data.view_as(pred)).sum()\n",
    "                prog_bar.update(batch_size)\n",
    "                counter += 1\n",
    "    \n",
    "    print(f'Test set: Avg. loss: {test_loss/counter}, Correct predictions: {correct}/{len(testloader.dataset)}')"
   ]
  },
  {
   "cell_type": "code",
   "execution_count": 7,
   "metadata": {},
   "outputs": [
    {
     "name": "stdout",
     "output_type": "stream",
     "text": [
      "Accuracy on the test set before training\n"
     ]
    },
    {
     "name": "stderr",
     "output_type": "stream",
     "text": [
      "Testing: 100%|██████████| 10016/10016 [00:02<00:00, 4881.46chunks/s]\n"
     ]
    },
    {
     "name": "stdout",
     "output_type": "stream",
     "text": [
      "Test set: Avg. loss: 2.302964083302897, Correct predictions: 1022/10000\n",
      "\n"
     ]
    },
    {
     "name": "stderr",
     "output_type": "stream",
     "text": [
      "Training - Epoch: 1/5: 100%|██████████| 60000/60000 [00:16<00:00, 3652.98chunks/s, loss=2.19]\n",
      "Training - Epoch: 2/5: 100%|██████████| 60000/60000 [00:16<00:00, 3669.70chunks/s, loss=1.84]\n",
      "Training - Epoch: 3/5: 100%|██████████| 60000/60000 [00:16<00:00, 3610.13chunks/s, loss=1.75]\n",
      "Training - Epoch: 4/5: 100%|██████████| 60000/60000 [00:16<00:00, 3646.49chunks/s, loss=1.73]\n",
      "Training - Epoch: 5/5: 100%|██████████| 60000/60000 [00:16<00:00, 3643.16chunks/s, loss=1.72]\n"
     ]
    },
    {
     "name": "stdout",
     "output_type": "stream",
     "text": [
      "Finished Training\n",
      "\n",
      "Accuracy on the test set after training the model\n"
     ]
    },
    {
     "name": "stderr",
     "output_type": "stream",
     "text": [
      "Testing: 100%|██████████| 10016/10016 [00:02<00:00, 5006.93chunks/s]"
     ]
    },
    {
     "name": "stdout",
     "output_type": "stream",
     "text": [
      "Test set: Avg. loss: 1.712955132460061, Correct predictions: 7502/10000\n"
     ]
    },
    {
     "name": "stderr",
     "output_type": "stream",
     "text": [
      "\n"
     ]
    }
   ],
   "source": [
    "torch.manual_seed(42)\n",
    "model = NeuralNetwork()\n",
    "epochs = 5\n",
    "\n",
    "print(\"Accuracy on the test set before training\")\n",
    "print(end=\"\")\n",
    "test(model, test_set, batch_size)\n",
    "print()\n",
    "\n",
    "train(epochs, model, train_set, batch_size)\n",
    "print()\n",
    "\n",
    "print(\"Accuracy on the test set after training the model\")\n",
    "test(model, test_set, batch_size)"
   ]
  },
  {
   "cell_type": "markdown",
   "metadata": {},
   "source": [
    "1.a: Preveri število parametrov v natreniranem modelu. Pomagaj si z modelovo funkcijo `parameters()` in funkcijo tenzorja `numel()`, ki izpiše število vrednosti znotraj tenzorja. Kako se število parametrov primerja z dosedaj videnimi napovednimi modeli in kaj predstavljajo vmesne vrednosti na sodih mestih?"
   ]
  },
  {
   "cell_type": "code",
   "execution_count": 8,
   "metadata": {},
   "outputs": [
    {
     "name": "stdout",
     "output_type": "stream",
     "text": [
      "linear_relu_stack.0.weight 50176\n",
      "linear_relu_stack.0.bias 64\n",
      "linear_relu_stack.2.weight 1280\n",
      "linear_relu_stack.2.bias 20\n",
      "linear_relu_stack.4.weight 200\n",
      "linear_relu_stack.4.bias 10\n",
      "51750\n"
     ]
    }
   ],
   "source": [
    "st = 0\n",
    "for name, p in model.named_parameters():\n",
    "    print(name, p.numel())\n",
    "    st += p.numel()\n",
    "\n",
    "print(st)"
   ]
  },
  {
   "cell_type": "markdown",
   "metadata": {},
   "source": [
    "1.b: Spremeni zgornjo nevronsko mrežo tako, da ji dodaš še en polno-povezan sloj in spremeni srednjo aktivacijsko funkcijo iz ReLu v Tanh in preveri njeno točnost."
   ]
  },
  {
   "cell_type": "code",
   "execution_count": 10,
   "metadata": {},
   "outputs": [],
   "source": [
    "class NeuralNetwork2(nn.Module):\n",
    "\n",
    "    def __init__(self):\n",
    "        super().__init__() #absolutno nevem zakaj ej to dobr??\n",
    "        \n",
    "        self.flatten = nn.Flatten() # OBJEKT: slika --> vektor\n",
    "\n",
    "        self.linear_tanh_stack = nn.Sequential(  # A sequential container.\n",
    "        #Števila, kot so 512, 256, 128, 64 …, so standardna izbira predvsem iz praktičnih razlogov\n",
    "        nn.Linear(28*28, 128), \n",
    "        nn.Tanh(),\n",
    "        nn.Linear(128, 64),\n",
    "        nn.Tanh(),\n",
    "        nn.Linear(64, 20), \n",
    "        nn.Tanh(),\n",
    "        nn.Linear(20, 10)\n",
    "        )\n",
    "        self.softmax = nn.Softmax(dim=1)\n",
    "\n",
    "\n",
    "    def forward(self, x):\n",
    "        x = self.flatten(x)\n",
    "        logits = self.linear_tanh_stack(x)\n",
    "        return self.softmax(logits)"
   ]
  },
  {
   "cell_type": "code",
   "execution_count": 10,
   "metadata": {},
   "outputs": [
    {
     "name": "stdout",
     "output_type": "stream",
     "text": [
      "Accuracy on the test set before training\n"
     ]
    },
    {
     "name": "stderr",
     "output_type": "stream",
     "text": [
      "Testing: 100%|██████████| 10016/10016 [00:02<00:00, 4484.69chunks/s]\n"
     ]
    },
    {
     "name": "stdout",
     "output_type": "stream",
     "text": [
      "Test set: Avg. loss: 2.304478672746652, Correct predictions: 1175/10000\n",
      "\n"
     ]
    },
    {
     "name": "stderr",
     "output_type": "stream",
     "text": [
      "Training - Epoch: 1/5: 100%|██████████| 60000/60000 [00:17<00:00, 3408.44chunks/s, loss=2.24]\n",
      "Training - Epoch: 2/5: 100%|██████████| 60000/60000 [00:17<00:00, 3415.23chunks/s, loss=1.99]\n",
      "Training - Epoch: 3/5: 100%|██████████| 60000/60000 [00:17<00:00, 3405.73chunks/s, loss=1.82]\n",
      "Training - Epoch: 4/5: 100%|██████████| 60000/60000 [00:17<00:00, 3429.49chunks/s, loss=1.74]\n",
      "Training - Epoch: 5/5: 100%|██████████| 60000/60000 [00:17<00:00, 3424.47chunks/s, loss=1.68]\n"
     ]
    },
    {
     "name": "stdout",
     "output_type": "stream",
     "text": [
      "Finished Training\n",
      "\n",
      "Accuracy on the test set after training the model\n"
     ]
    },
    {
     "name": "stderr",
     "output_type": "stream",
     "text": [
      "Testing: 100%|██████████| 10016/10016 [00:01<00:00, 5070.74chunks/s]"
     ]
    },
    {
     "name": "stdout",
     "output_type": "stream",
     "text": [
      "Test set: Avg. loss: 1.6595719885140563, Correct predictions: 8285/10000\n"
     ]
    },
    {
     "name": "stderr",
     "output_type": "stream",
     "text": [
      "\n"
     ]
    }
   ],
   "source": [
    "torch.manual_seed(42)\n",
    "model = NeuralNetwork2()\n",
    "epochs = 5\n",
    "\n",
    "print(\"Accuracy on the test set before training\")\n",
    "print(end=\"\")\n",
    "test(model, test_set, batch_size)\n",
    "print()\n",
    "\n",
    "train(epochs, model, train_set, batch_size)\n",
    "print()\n",
    "\n",
    "print(\"Accuracy on the test set after training the model\")\n",
    "test(model, test_set, batch_size)"
   ]
  },
  {
   "cell_type": "markdown",
   "metadata": {},
   "source": [
    "1.c: Preiskusi točnost nevronske mreže z različnimi velikosti skupin (batch-ev), optimizatorji (SGD in Adam) in različnimi hitrostmi učenja (learning rate)."
   ]
  },
  {
   "cell_type": "code",
   "execution_count": 13,
   "metadata": {},
   "outputs": [],
   "source": [
    "from torch.utils.data import Subset\n",
    "train_subset = Subset(train_set, range(5000))"
   ]
  },
  {
   "cell_type": "markdown",
   "metadata": {},
   "source": [
    "**VELIKOST SKUPIN**"
   ]
  },
  {
   "cell_type": "code",
   "execution_count": 21,
   "metadata": {},
   "outputs": [
    {
     "name": "stdout",
     "output_type": "stream",
     "text": [
      "Accuracy on the test set before training\n"
     ]
    },
    {
     "name": "stderr",
     "output_type": "stream",
     "text": [
      "Testing: 100%|██████████| 5120/5120 [00:00<00:00, 5250.76chunks/s]\n"
     ]
    },
    {
     "name": "stdout",
     "output_type": "stream",
     "text": [
      "Test set: Avg. loss: 2.304772472381592, Correct predictions: 551/5000\n",
      "\n"
     ]
    },
    {
     "name": "stderr",
     "output_type": "stream",
     "text": [
      "Training - Epoch: 1/5: 100%|██████████| 5120/5120 [00:01<00:00, 4630.15chunks/s, loss=2.3] \n",
      "Training - Epoch: 2/5: 100%|██████████| 5120/5120 [00:00<00:00, 5157.39chunks/s, loss=2.3]\n",
      "Training - Epoch: 3/5: 100%|██████████| 5120/5120 [00:00<00:00, 5255.14chunks/s, loss=2.3]\n",
      "Training - Epoch: 4/5: 100%|██████████| 5120/5120 [00:00<00:00, 5407.76chunks/s, loss=2.3]\n",
      "Training - Epoch: 5/5: 100%|██████████| 5120/5120 [00:00<00:00, 5292.55chunks/s, loss=2.3]\n"
     ]
    },
    {
     "name": "stdout",
     "output_type": "stream",
     "text": [
      "Finished Training\n",
      "\n",
      "Accuracy on the test set after training the model\n"
     ]
    },
    {
     "name": "stderr",
     "output_type": "stream",
     "text": [
      "Testing: 100%|██████████| 10240/10240 [00:01<00:00, 5145.24chunks/s]"
     ]
    },
    {
     "name": "stdout",
     "output_type": "stream",
     "text": [
      "Test set: Avg. loss: 2.303061270713806, Correct predictions: 1409/10000\n"
     ]
    },
    {
     "name": "stderr",
     "output_type": "stream",
     "text": [
      "\n"
     ]
    }
   ],
   "source": [
    "torch.manual_seed(42)\n",
    "model = NeuralNetwork2()\n",
    "epochs = 5\n",
    "batch_size = 512\n",
    "\n",
    "print(\"Accuracy on the test set before training\")\n",
    "print(end=\"\")\n",
    "test(model, train_subset, batch_size)\n",
    "print()\n",
    "\n",
    "train(epochs, model, train_subset, batch_size)\n",
    "print()\n",
    "\n",
    "print(\"Accuracy on the test set after training the model\")\n",
    "test(model, test_set, batch_size)"
   ]
  },
  {
   "cell_type": "markdown",
   "metadata": {},
   "source": [
    "batch_size = 100, Test set: Avg. loss: 2.2968210625648497, Correct predictions: 2318/10000\n",
    "\n",
    "batch_size = 64, Test set: Avg. loss: 2.2915606802436197, Correct predictions: 2885/10000\n",
    "\n",
    "batch_size = 32, Test set: Avg. loss: 2.2717013541882793, Correct predictions: 4274/10000\n",
    "\n",
    "batch_size = 16, Test set: Avg. loss: 2.1691850894927978, Correct predictions: 4046/10000\n",
    "\n",
    "batch_size = 8, Test set: Avg. loss: 1.9393114226341248, Correct predictions: 6019/10000\n",
    "\n",
    "\n",
    "Pri učenju mreže z gradientnim spustom ne posodabljamo uteži po vsakem vzorcu posebej, ampak po vsakem batchu — skupini vzorcev.\n",
    "\n",
    "**Majhen batch** (npr. 16, 32, 64) (v našem primeru drugače, ker gledamo le 5000 podatkov)\n",
    "Prednosti:\n",
    "\n",
    "- Bolj \"šumen\" gradient → pomaga pobegniti iz lokalnih minimumov → pogosto boljša generalizacija (višji test accuracy).\n",
    "\n",
    "- Manjša poraba pomnilnika (GPU RAM).\n",
    "\n",
    "Slabosti:\n",
    "\n",
    "- Počasnejše učenje, ker mora model pogosteje računati posodobitve.\n",
    "\n",
    "- Večji variance v gradientih → počasnejša konvergenca.\n",
    "\n",
    "**Velik batch** (npr. 512, 1024, 4096, …)\n",
    "\n",
    "Prednosti:\n",
    "\n",
    "- Manj šuma → bolj natančen gradient → stabilnejše učenje.\n",
    "\n",
    "- Lahko izkorišča paralelizem GPU in zato hitreje trenira na epoho.\n",
    "\n",
    "Slabosti:\n",
    "\n",
    "- Pogosto slabša generalizacija — model se nauči “gladkih”, a preveč specifičnih vzorcev iz treninga.\n",
    "\n",
    "- Potrebuje večje learning rate (drugače se gradienti \"izničijo\").\n",
    "\n",
    "- Več pomnilnika (RAM/VRAM)."
   ]
  },
  {
   "cell_type": "markdown",
   "metadata": {},
   "source": [
    "**OPTIMIZATORJI**"
   ]
  },
  {
   "cell_type": "code",
   "execution_count": 26,
   "metadata": {},
   "outputs": [
    {
     "name": "stdout",
     "output_type": "stream",
     "text": [
      "Accuracy on the test set before training\n"
     ]
    },
    {
     "name": "stderr",
     "output_type": "stream",
     "text": [
      "Testing: 100%|██████████| 5024/5024 [00:01<00:00, 4849.75chunks/s]\n"
     ]
    },
    {
     "name": "stdout",
     "output_type": "stream",
     "text": [
      "Test set: Avg. loss: 2.3031559370125936, Correct predictions: 532/5000\n",
      "\n"
     ]
    },
    {
     "name": "stderr",
     "output_type": "stream",
     "text": [
      "Training - Epoch: 1/5: 100%|██████████| 5024/5024 [00:01<00:00, 3415.65chunks/s, loss=1.82]\n",
      "Training - Epoch: 2/5: 100%|██████████| 5024/5024 [00:01<00:00, 3304.61chunks/s, loss=1.75]\n",
      "Training - Epoch: 3/5: 100%|██████████| 5024/5024 [00:01<00:00, 3311.32chunks/s, loss=1.74]\n",
      "Training - Epoch: 4/5: 100%|██████████| 5024/5024 [00:01<00:00, 3169.80chunks/s, loss=1.73]\n",
      "Training - Epoch: 5/5: 100%|██████████| 5024/5024 [00:01<00:00, 3277.48chunks/s, loss=1.73]\n"
     ]
    },
    {
     "name": "stdout",
     "output_type": "stream",
     "text": [
      "Finished Training\n",
      "\n",
      "Accuracy on the test set after training the model\n"
     ]
    },
    {
     "name": "stderr",
     "output_type": "stream",
     "text": [
      "Testing: 100%|██████████| 10016/10016 [00:02<00:00, 4893.45chunks/s]"
     ]
    },
    {
     "name": "stdout",
     "output_type": "stream",
     "text": [
      "Test set: Avg. loss: 1.7496263299125452, Correct predictions: 7105/10000\n"
     ]
    },
    {
     "name": "stderr",
     "output_type": "stream",
     "text": [
      "\n"
     ]
    }
   ],
   "source": [
    "torch.manual_seed(42)\n",
    "model = NeuralNetwork()\n",
    "epochs = 5\n",
    "batch_size = 32\n",
    "\n",
    "print(\"Accuracy on the test set before training\")\n",
    "print(end=\"\")\n",
    "test(model, train_subset, batch_size)\n",
    "print()\n",
    "\n",
    "train(epochs, model, train_subset, batch_size)\n",
    "print()\n",
    "\n",
    "print(\"Accuracy on the test set after training the model\")\n",
    "test(model, test_set, batch_size)"
   ]
  },
  {
   "cell_type": "markdown",
   "metadata": {},
   "source": [
    "optimizer = torch.optim.SGD(model.parameters(), lr=learning_rate)\n",
    "\n",
    "Test set: Avg. loss: 2.27035049660899, Correct predictions: 4032/10000\n",
    "\n",
    "optimizer = torch.optim.adam(model.parameters(), lr=learning_rate)\n",
    "\n",
    "Test set: Avg. loss: 1.7496263299125452, Correct predictions: 7105/10000\n",
    "\n",
    "\n",
    "Oba posodabljata uteži modela glede na izračunan gradient napake (loss-a).\n",
    "\n",
    "**SGD (Stochastic Gradient Descent)**\n",
    "\n",
    "- Ideja: klasični gradientni spust — vsak parameter posodobi v nasprotni smeri gradienta.\n",
    "\n",
    "Če dodaš moment:\n",
    "torch.optim.SGD(model.parameters(), lr=learning_rate, momentum=0.9)\n",
    "...bo deloval bolj stabilno (ohranja “zagon” iz prejšnjih posodobitev).\n",
    "\n",
    "Lastnosti:\n",
    "\n",
    "- enak learning rate za vse parametre,\n",
    "\n",
    "- brez “samodejnega prilagajanja” hitrosti učenja,\n",
    "\n",
    "- občutljiv na izbiro lr,\n",
    "\n",
    "- a pogosto bolje generalizira (manj prenaučen).\n",
    "\n",
    "- Intuicija: uči se počasneje, a bolj “enakomerno”.\n",
    "- Dober za: preproste modele ali ko imaš veliko podatkov in dober learning rate schedule (npr. pri CNN-ih za slike).\n",
    "\n",
    "**Adam (Adaptive Moment Estimation)**\n",
    "\n",
    "- Ideja: kombinira prednosti momentuma (iz SGD) in samodejnega prilagajanja learning rate-a za vsak parameter.\n",
    "\n",
    "Sledi povprečju gradientov in njihovih kvadratov in nato parametre posodobi z “normaliziranim” gradientom:\n",
    "\n",
    "\n",
    "Lastnosti:\n",
    "\n",
    "- vsak parameter ima svoj “učni korak” → prilagodi se sam,\n",
    "\n",
    "- deluje zelo dobro out of the box, brez dolgega iskanja lr,\n",
    "\n",
    "- hitro konvergira,\n",
    "\n",
    "- a lahko včasih slabše generalizira (prehitro se “ujame” v minimum, ki ni najboljši za testne podatke).\n",
    "\n",
    "- Intuicija: Adam je “pametni SGD” — prilagodi korak glede na to, kako “negotov” je gradient.\n",
    "- Dober za: kompleksne modele, LSTM, Transformerje, kjer so gradienti neenakomerni.\n",
    "\n"
   ]
  },
  {
   "cell_type": "markdown",
   "metadata": {},
   "source": [
    "## Naloga 2: Konvolucijska nevronska mreža"
   ]
  },
  {
   "cell_type": "markdown",
   "metadata": {},
   "source": [
    "2.a: S pomočjo 2D konvolucijskega sloja ([`nn.Conv2d`](https://pytorch.org/docs/stable/generated/torch.nn.Conv2d.html)) in maxpool sloja ([`nn.MaxPool2d`](https://pytorch.org/docs/stable/generated/torch.nn.MaxPool2d.html)) sestavi konvolucijsko nevronsko mrežo in jo potestiraj na testni množici."
   ]
  },
  {
   "cell_type": "code",
   "execution_count": null,
   "metadata": {},
   "outputs": [],
   "source": [
    "class ConvNN(nn.Module):\n",
    "    def __init__(self):\n",
    "        super(ConvNN, self).__init__()\n",
    "\n",
    "        self.conv = nn.Sequential(\n",
    "            nn.Conv2d(in_channels = 1, out_channels = 16, kernel_size=3, padding=1),  #ne pretvorimo v vektor, ker delamo s konvolucijsko NM\n",
    "            # in_channels = 1 (črno-bela slika), pri barvnih slikah (RGB) so 3 kanali\n",
    "            # out_channels = 16 koliko različnih filtrov bo ta sloj imel → torej koliko različnih “pogledov” bo ustvaril.\n",
    "            # kernel_size = 3 velikost filtra 3x3 \n",
    "            nn.ReLU(),\n",
    "            nn.MaxPool2d(kernel_size=2)      \n",
    "        )\n",
    "        # Definiramo še objekt, ki bo izhod pretvoril v \"verjetnosti\" (pozitivne vrednosti, ki se šeštejejo v 1)\n",
    "        # parameter dim=1 nam to naredi po drugi (1-ti) dimenziji. Vsak podatek po prvi (0-ti) dimenziji je ena slika v skupini (batchu)\n",
    "        # out = (in + 2*padding - kernal_size)/stride + 1\n",
    "        self.fc = nn.Linear(3136, 10) # 3136=16*14*14 (28 + 2 - 3 + 1 = 28 --> (28 - 2)/2 + 1 = 14)\n",
    "\n",
    "\n",
    "    def forward(self, x):\n",
    "        # Podatke pošljemo čez konvolucijo\n",
    "        x = self.conv(x)\n",
    "        # Kanale pretvorimo v vektorje z ukazom reshape\n",
    "        x = x.reshape(x.size(0), -1)\n",
    "        # Napovemo ciljno vrednost s polno povezanim slojem\n",
    "        x = self.fc(x)\n",
    "        return x\n"
   ]
  },
  {
   "cell_type": "code",
   "execution_count": 20,
   "metadata": {},
   "outputs": [
    {
     "name": "stdout",
     "output_type": "stream",
     "text": [
      "Accuracy on the test set before training\n"
     ]
    },
    {
     "name": "stderr",
     "output_type": "stream",
     "text": [
      "Testing: 100%|██████████| 5024/5024 [00:01<00:00, 4974.64chunks/s]\n"
     ]
    },
    {
     "name": "stdout",
     "output_type": "stream",
     "text": [
      "Test set: Avg. loss: 2.360488683554777, Correct predictions: 521/5000\n",
      "\n"
     ]
    },
    {
     "name": "stderr",
     "output_type": "stream",
     "text": [
      "Training - Epoch: 1/5: 100%|██████████| 5024/5024 [00:01<00:00, 3536.30chunks/s, loss=0.749]\n",
      "Training - Epoch: 2/5: 100%|██████████| 5024/5024 [00:01<00:00, 3669.00chunks/s, loss=0.367]\n",
      "Training - Epoch: 3/5: 100%|██████████| 5024/5024 [00:01<00:00, 3823.07chunks/s, loss=0.318]\n",
      "Training - Epoch: 4/5: 100%|██████████| 5024/5024 [00:01<00:00, 4125.93chunks/s, loss=0.288]\n",
      "Training - Epoch: 5/5: 100%|██████████| 5024/5024 [00:01<00:00, 4018.82chunks/s, loss=0.264]\n"
     ]
    },
    {
     "name": "stdout",
     "output_type": "stream",
     "text": [
      "Finished Training\n",
      "\n",
      "Accuracy on the test set after training the model\n"
     ]
    },
    {
     "name": "stderr",
     "output_type": "stream",
     "text": [
      "Testing: 100%|██████████| 10016/10016 [00:01<00:00, 5584.17chunks/s]"
     ]
    },
    {
     "name": "stdout",
     "output_type": "stream",
     "text": [
      "Test set: Avg. loss: 0.32771553227695793, Correct predictions: 9035/10000\n"
     ]
    },
    {
     "name": "stderr",
     "output_type": "stream",
     "text": [
      "\n"
     ]
    }
   ],
   "source": [
    "torch.manual_seed(42)\n",
    "model = ConvNN()\n",
    "epochs = 5\n",
    "batch_size = 32\n",
    "\n",
    "print(\"Accuracy on the test set before training\")\n",
    "print(end=\"\")\n",
    "test(model, train_subset, batch_size)\n",
    "print()\n",
    "\n",
    "train(epochs, model, train_subset, batch_size)\n",
    "print()\n",
    "\n",
    "print(\"Accuracy on the test set after training the model\")\n",
    "test(model, test_set, batch_size)"
   ]
  },
  {
   "cell_type": "markdown",
   "metadata": {},
   "source": [
    "2.b: Izpiši število parametrov te nevronske mreže. Kako se število parametrov razlikuje od števila parametrov usmerjene nevronske mreže?"
   ]
  },
  {
   "cell_type": "code",
   "execution_count": 21,
   "metadata": {},
   "outputs": [
    {
     "name": "stdout",
     "output_type": "stream",
     "text": [
      "conv.0.weight 144\n",
      "conv.0.bias 16\n",
      "fc.weight 31360\n",
      "fc.bias 10\n",
      "31530\n"
     ]
    }
   ],
   "source": [
    "st = 0\n",
    "for name, p in model.named_parameters():\n",
    "    print(name, p.numel())\n",
    "    st += p.numel()\n",
    "\n",
    "print(st)"
   ]
  },
  {
   "cell_type": "markdown",
   "metadata": {},
   "source": [
    "2.c: Modelu dodaj še en konvolucijski sloj in maxpooling sloj, ga natreniraj, preveri njegovo točnost na testni množici in preveri koliko parametrov ima. Opaziš kaj nenavadnega?"
   ]
  },
  {
   "cell_type": "code",
   "execution_count": 43,
   "metadata": {},
   "outputs": [],
   "source": [
    "class ConvNN2(nn.Module):\n",
    "    def __init__(self):\n",
    "        super(ConvNN2, self).__init__()\n",
    "\n",
    "        self.conv = nn.Sequential(\n",
    "            nn.Conv2d(in_channels = 1, out_channels = 16, kernel_size=3),  \n",
    "            nn.ReLU(),\n",
    "            nn.MaxPool2d(kernel_size=2),  \n",
    "            nn.ReLU(),  \n",
    "            nn.Conv2d(in_channels = 16, out_channels = 32, kernel_size=3),\n",
    "            nn.ReLU(), \n",
    "            nn.MaxPool2d(kernel_size=2)      \n",
    "        )\n",
    "        self.fc = nn.Linear(800, 10)\n",
    "\n",
    "\n",
    "    def forward(self, x):\n",
    "        # Podatke pošljemo čez konvolucijo\n",
    "        x = self.conv(x)\n",
    "        # Kanale pretvorimo v vektorje z ukazom reshape\n",
    "        x = x.reshape(x.size(0), -1)\n",
    "        # Napovemo ciljno vrednost s polno povezanim slojem\n",
    "        x = self.fc(x)\n",
    "        return x\n"
   ]
  },
  {
   "cell_type": "code",
   "execution_count": 46,
   "metadata": {},
   "outputs": [
    {
     "name": "stdout",
     "output_type": "stream",
     "text": [
      "Accuracy on the test set before training\n"
     ]
    },
    {
     "name": "stderr",
     "output_type": "stream",
     "text": [
      "Testing: 100%|██████████| 10016/10016 [00:02<00:00, 4723.94chunks/s]\n"
     ]
    },
    {
     "name": "stdout",
     "output_type": "stream",
     "text": [
      "Test set: Avg. loss: 2.346103985088702, Correct predictions: 518/10000\n",
      "\n"
     ]
    },
    {
     "name": "stderr",
     "output_type": "stream",
     "text": [
      "Training - Epoch: 1/5: 100%|██████████| 60000/60000 [00:18<00:00, 3200.61chunks/s, loss=0.317]\n",
      "Training - Epoch: 2/5: 100%|██████████| 60000/60000 [00:19<00:00, 3091.25chunks/s, loss=0.108]\n",
      "Training - Epoch: 3/5: 100%|██████████| 60000/60000 [00:19<00:00, 3083.18chunks/s, loss=0.0815]\n",
      "Training - Epoch: 4/5: 100%|██████████| 60000/60000 [00:19<00:00, 3121.96chunks/s, loss=0.0676]\n",
      "Training - Epoch: 5/5: 100%|██████████| 60000/60000 [00:19<00:00, 3094.22chunks/s, loss=0.0599]\n"
     ]
    },
    {
     "name": "stdout",
     "output_type": "stream",
     "text": [
      "Finished Training\n",
      "\n",
      "Accuracy on the test set after training the model\n"
     ]
    },
    {
     "name": "stderr",
     "output_type": "stream",
     "text": [
      "Testing: 100%|██████████| 10016/10016 [00:02<00:00, 4516.12chunks/s]"
     ]
    },
    {
     "name": "stdout",
     "output_type": "stream",
     "text": [
      "Test set: Avg. loss: 0.05234882196176428, Correct predictions: 9833/10000\n"
     ]
    },
    {
     "name": "stderr",
     "output_type": "stream",
     "text": [
      "\n"
     ]
    }
   ],
   "source": [
    "torch.manual_seed(42)\n",
    "model = ConvNN2()\n",
    "epochs = 5\n",
    "batch_size = 32\n",
    "\n",
    "print(\"Accuracy on the test set before training\")\n",
    "print(end=\"\")\n",
    "test(model, test_set, batch_size)\n",
    "print()\n",
    "\n",
    "train(epochs, model, train_set, batch_size)\n",
    "print()\n",
    "\n",
    "print(\"Accuracy on the test set after training the model\")\n",
    "test(model, test_set, batch_size)"
   ]
  },
  {
   "cell_type": "markdown",
   "metadata": {},
   "source": [
    "## Naloga 3: Eksperimenti z nevronskimi mrežami"
   ]
  },
  {
   "cell_type": "markdown",
   "metadata": {},
   "source": [
    "3.a: Poigraj se z naslednjimi parametri, da dobiš čim boljši model:\n",
    "- število konvolucijskih slojev v mreži\n",
    "- število polno-povezanih slojev v mreži\n",
    "- velikost jedra konvolucijskega sloja\n",
    "- velikost jedra maxpool sloja\n",
    "- število nevronov v polno povezanih slojih\n",
    "- število izhodnih kanalov konvolucijskega sloja\n",
    "- hitrost učenja\n",
    "- optimizator (Adam)"
   ]
  },
  {
   "cell_type": "code",
   "execution_count": null,
   "metadata": {},
   "outputs": [],
   "source": []
  },
  {
   "cell_type": "markdown",
   "metadata": {},
   "source": [
    "3.b: Opiši, kako bi z nevronsko mrežo sestavil model linearne regresije, ki se parametrov nauči iterativno in ne eksaktno."
   ]
  }
 ],
 "metadata": {
  "kernelspec": {
   "display_name": "ITIAP",
   "language": "python",
   "name": "python3"
  },
  "language_info": {
   "codemirror_mode": {
    "name": "ipython",
    "version": 3
   },
   "file_extension": ".py",
   "mimetype": "text/x-python",
   "name": "python",
   "nbconvert_exporter": "python",
   "pygments_lexer": "ipython3",
   "version": "3.12.11"
  }
 },
 "nbformat": 4,
 "nbformat_minor": 2
}
