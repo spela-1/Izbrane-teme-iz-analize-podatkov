{
 "cells": [
  {
   "cell_type": "markdown",
   "metadata": {},
   "source": [
    "# Vaje 2: Linearni napovedni modeli"
   ]
  },
  {
   "cell_type": "markdown",
   "metadata": {},
   "source": [
    "## Naloga 1: Linearna regresija"
   ]
  },
  {
   "cell_type": "markdown",
   "metadata": {},
   "source": [
    "1.a: Ustvari podatkovno množico z vsaj desetimi spremenljivkami, na kateri boš testiral pristop. Funkcija ciljne spremenljivke, ki jo definiraš, naj bo numerična, naj vsebuje šum in ima največ 5 spremenljivk.\n",
    "\n",
    "<details>\n",
    "  <summary>Namig:</summary>\n",
    "\n",
    "  *Pomagaj si s [funkcijo numpy.random.random_sample()](https://numpy.org/doc/1.25/reference/random/generated/numpy.random.random_sample.html) in s [funkcijo numpy.random.normal()](https://numpy.org/doc/1.25/reference/random/generated/numpy.random.normal.html)*.\n",
    "   \n",
    "</details>"
   ]
  },
  {
   "cell_type": "code",
   "execution_count": 23,
   "metadata": {},
   "outputs": [],
   "source": [
    "import numpy as np\n",
    "import pandas as pd\n",
    "\n",
    "\n",
    "# velikost vzorca\n",
    "n = 1000\n",
    "\n",
    "X = np.random.random_sample((n,10)) \n",
    "\n",
    "y = (\n",
    "    2.5 * X[:, 0] \n",
    "    - 1.7 * X[:, 2] \n",
    "    + 0.8 * X[:, 4]**2\n",
    "    + np.sin(2 * np.pi * X[:, 6])     # ker so podatki v [0,1), damo periodično funkcijo\n",
    "    + 3.0 * np.log(X[:, 9] + 1) \n",
    "    + 0.1 * np.random.normal(n)  #šum\n",
    ")\n",
    "\n",
    "\n",
    "\n",
    "columns = [f\"x{i+1}\" for i in range(10)]\n",
    "df = pd.DataFrame(X, columns=columns)\n",
    "df[\"y\"] = y\n",
    "\n"
   ]
  },
  {
   "cell_type": "markdown",
   "metadata": {},
   "source": [
    "1.b: Podatke razdeli na učno in testno množico. Razmerje med velikostjo učne in testne množice naj bo 4:1."
   ]
  },
  {
   "cell_type": "code",
   "execution_count": 24,
   "metadata": {},
   "outputs": [],
   "source": [
    "from sklearn.model_selection import train_test_split\n",
    "\n",
    "#train_df, test_df = train_test_split(df, test_size=0.2, random_state=42)\n",
    "\n",
    "X_train, X_test, y_train, y_test = train_test_split(X, y, test_size = 0.2)\n"
   ]
  },
  {
   "cell_type": "markdown",
   "metadata": {},
   "source": [
    "1.c: Natreniraj model linearne regresije in oceni njegovo točnost na testni množici z RMSE.\n",
    "\n",
    "<details>\n",
    "  <summary>Namig:</summary>\n",
    "\n",
    "  *Uporabi [napovedni model sklearn.linear_model.LinearRegression](https://scikit-learn.org/stable/modules/generated/sklearn.linear_model.LinearRegression.html) in [sklearn.metrics.root_mean_squared_error()](https://scikit-learn.org/stable/modules/generated/sklearn.metrics.root_mean_squared_error.html)*.\n",
    "\n",
    "</details>"
   ]
  },
  {
   "cell_type": "code",
   "execution_count": 25,
   "metadata": {},
   "outputs": [
    {
     "data": {
      "text/plain": [
       "0.44692948374767516"
      ]
     },
     "execution_count": 25,
     "metadata": {},
     "output_type": "execute_result"
    }
   ],
   "source": [
    "from sklearn.linear_model import LinearRegression \n",
    "\n",
    "reg = LinearRegression().fit(X_train, y_train)\n",
    "pred = reg.predict(X_test)\n",
    "\n",
    "from sklearn.metrics import root_mean_squared_error\n",
    "\n",
    "RMSE = root_mean_squared_error(y_test, pred) \n",
    "RMSE\n"
   ]
  },
  {
   "cell_type": "markdown",
   "metadata": {},
   "source": [
    "1.d: Odgovori na naslednja vprašanja:\n",
    "- Kateri koeficienti spremenljivk pozitivno korelirajo s ciljno spremenljivko in kateri negativno?\n",
    "- Katera spremenljivka najbolj vpliva na napoved modela?\n",
    "- Kako bi brez klica metode LinearRegression.predict() ugotovil vrednost, ki bi jo model napovedal za vektor ničel?\n",
    "- Kolikšna je razlika med napako na učni in testni množici?\n",
    "- Koliko na točnost vplivajo spremenljivke, ki se v ciljni funkciji ne pojavijo?"
   ]
  },
  {
   "cell_type": "code",
   "execution_count": 26,
   "metadata": {},
   "outputs": [
    {
     "name": "stdout",
     "output_type": "stream",
     "text": [
      "[ 2.63827902  0.00975361 -1.75625929 -0.02100467  0.86450526 -0.0743254\n",
      " -1.88687319 -0.07168256 -0.06820006  1.93279612]\n",
      "\n",
      "vektor ničel bi imel vrednost: 100.8621\n",
      "\n",
      "MSE (train): 0.2082\n",
      "MSE (test):  0.1997\n",
      "Razlika:     0.0085\n"
     ]
    },
    {
     "data": {
      "text/plain": [
       "<Figure size 1000x800 with 0 Axes>"
      ]
     },
     "metadata": {},
     "output_type": "display_data"
    }
   ],
   "source": [
    "import matplotlib.pyplot as plt\n",
    "plt.figure(figsize=(10, 8))\n",
    "\n",
    "cor = df.corr().style.background_gradient(cmap='coolwarm')\n",
    "cor\n",
    "\n",
    "coefs = reg.coef_\n",
    "print(coefs)\n",
    "\n",
    "print(f\"\\nvektor ničel bi imel vrednost: {reg.intercept_:.4f}\")\n",
    "\n",
    "\n",
    "from sklearn.metrics import mean_squared_error\n",
    "\n",
    "mse_train = mean_squared_error(y_train, reg.predict(X_train))\n",
    "mse_test = mean_squared_error(y_test, reg.predict(X_test))\n",
    "\n",
    "print(f\"\\nMSE (train): {mse_train:.4f}\")\n",
    "print(f\"MSE (test):  {mse_test:.4f}\")\n",
    "print(f\"Razlika:     {abs(mse_train - mse_test):.4f}\")"
   ]
  },
  {
   "cell_type": "markdown",
   "metadata": {},
   "source": [
    "## Naloga 2: Logistična regresija"
   ]
  },
  {
   "cell_type": "markdown",
   "metadata": {},
   "source": [
    "2.a: Ustvari podatkovno množico z vsaj desetimi spremenljivkami, na kateri boš testiral pristop. Vrednosti ciljne spremenljivke naj bodo diskretne, naj vsebujejo šum in naj bodo definirane z največ 5-imi spremenljivkami.\n",
    "\n",
    "<details>\n",
    "  <summary>Namig:</summary>\n",
    "\n",
    "  *Najprej definiraj funkcijo ciljne spremenljivke, ki bo numerična. Numerične vrednosti nato diskretiziraj.*\n",
    "\n",
    "</details>"
   ]
  },
  {
   "cell_type": "code",
   "execution_count": 27,
   "metadata": {},
   "outputs": [
    {
     "data": {
      "text/html": [
       "<div>\n",
       "<style scoped>\n",
       "    .dataframe tbody tr th:only-of-type {\n",
       "        vertical-align: middle;\n",
       "    }\n",
       "\n",
       "    .dataframe tbody tr th {\n",
       "        vertical-align: top;\n",
       "    }\n",
       "\n",
       "    .dataframe thead th {\n",
       "        text-align: right;\n",
       "    }\n",
       "</style>\n",
       "<table border=\"1\" class=\"dataframe\">\n",
       "  <thead>\n",
       "    <tr style=\"text-align: right;\">\n",
       "      <th></th>\n",
       "      <th>x1</th>\n",
       "      <th>x2</th>\n",
       "      <th>x3</th>\n",
       "      <th>x4</th>\n",
       "      <th>x5</th>\n",
       "      <th>x6</th>\n",
       "      <th>x7</th>\n",
       "      <th>x8</th>\n",
       "      <th>x9</th>\n",
       "      <th>x10</th>\n",
       "      <th>y</th>\n",
       "    </tr>\n",
       "  </thead>\n",
       "  <tbody>\n",
       "    <tr>\n",
       "      <th>0</th>\n",
       "      <td>0.527041</td>\n",
       "      <td>0.285879</td>\n",
       "      <td>0.338183</td>\n",
       "      <td>0.659858</td>\n",
       "      <td>0.982471</td>\n",
       "      <td>0.076392</td>\n",
       "      <td>0.722569</td>\n",
       "      <td>0.020385</td>\n",
       "      <td>0.782828</td>\n",
       "      <td>0.302115</td>\n",
       "      <td>true</td>\n",
       "    </tr>\n",
       "    <tr>\n",
       "      <th>1</th>\n",
       "      <td>0.627158</td>\n",
       "      <td>0.961025</td>\n",
       "      <td>0.650158</td>\n",
       "      <td>0.097692</td>\n",
       "      <td>0.185465</td>\n",
       "      <td>0.149553</td>\n",
       "      <td>0.087355</td>\n",
       "      <td>0.995233</td>\n",
       "      <td>0.459677</td>\n",
       "      <td>0.220911</td>\n",
       "      <td>true</td>\n",
       "    </tr>\n",
       "    <tr>\n",
       "      <th>2</th>\n",
       "      <td>0.626641</td>\n",
       "      <td>0.503461</td>\n",
       "      <td>0.122321</td>\n",
       "      <td>0.846249</td>\n",
       "      <td>0.245763</td>\n",
       "      <td>0.658295</td>\n",
       "      <td>0.648249</td>\n",
       "      <td>0.991912</td>\n",
       "      <td>0.659397</td>\n",
       "      <td>0.603749</td>\n",
       "      <td>false</td>\n",
       "    </tr>\n",
       "    <tr>\n",
       "      <th>3</th>\n",
       "      <td>0.463172</td>\n",
       "      <td>0.639930</td>\n",
       "      <td>0.267017</td>\n",
       "      <td>0.966319</td>\n",
       "      <td>0.220102</td>\n",
       "      <td>0.584191</td>\n",
       "      <td>0.220422</td>\n",
       "      <td>0.531662</td>\n",
       "      <td>0.817508</td>\n",
       "      <td>0.093373</td>\n",
       "      <td>true</td>\n",
       "    </tr>\n",
       "    <tr>\n",
       "      <th>4</th>\n",
       "      <td>0.854881</td>\n",
       "      <td>0.075517</td>\n",
       "      <td>0.840727</td>\n",
       "      <td>0.219801</td>\n",
       "      <td>0.624141</td>\n",
       "      <td>0.076994</td>\n",
       "      <td>0.159599</td>\n",
       "      <td>0.663906</td>\n",
       "      <td>0.427680</td>\n",
       "      <td>0.842951</td>\n",
       "      <td>false</td>\n",
       "    </tr>\n",
       "    <tr>\n",
       "      <th>...</th>\n",
       "      <td>...</td>\n",
       "      <td>...</td>\n",
       "      <td>...</td>\n",
       "      <td>...</td>\n",
       "      <td>...</td>\n",
       "      <td>...</td>\n",
       "      <td>...</td>\n",
       "      <td>...</td>\n",
       "      <td>...</td>\n",
       "      <td>...</td>\n",
       "      <td>...</td>\n",
       "    </tr>\n",
       "    <tr>\n",
       "      <th>995</th>\n",
       "      <td>0.668780</td>\n",
       "      <td>0.423355</td>\n",
       "      <td>0.746432</td>\n",
       "      <td>0.470368</td>\n",
       "      <td>0.380970</td>\n",
       "      <td>0.220031</td>\n",
       "      <td>0.865534</td>\n",
       "      <td>0.036049</td>\n",
       "      <td>0.456383</td>\n",
       "      <td>0.073588</td>\n",
       "      <td>true</td>\n",
       "    </tr>\n",
       "    <tr>\n",
       "      <th>996</th>\n",
       "      <td>0.976170</td>\n",
       "      <td>0.706929</td>\n",
       "      <td>0.421577</td>\n",
       "      <td>0.541893</td>\n",
       "      <td>0.914566</td>\n",
       "      <td>0.732941</td>\n",
       "      <td>0.862013</td>\n",
       "      <td>0.107662</td>\n",
       "      <td>0.539317</td>\n",
       "      <td>0.775490</td>\n",
       "      <td>false</td>\n",
       "    </tr>\n",
       "    <tr>\n",
       "      <th>997</th>\n",
       "      <td>0.290446</td>\n",
       "      <td>0.163570</td>\n",
       "      <td>0.279508</td>\n",
       "      <td>0.578274</td>\n",
       "      <td>0.651417</td>\n",
       "      <td>0.798303</td>\n",
       "      <td>0.536749</td>\n",
       "      <td>0.549655</td>\n",
       "      <td>0.344469</td>\n",
       "      <td>0.131380</td>\n",
       "      <td>true</td>\n",
       "    </tr>\n",
       "    <tr>\n",
       "      <th>998</th>\n",
       "      <td>0.802898</td>\n",
       "      <td>0.811415</td>\n",
       "      <td>0.461369</td>\n",
       "      <td>0.592210</td>\n",
       "      <td>0.018917</td>\n",
       "      <td>0.391390</td>\n",
       "      <td>0.168283</td>\n",
       "      <td>0.686851</td>\n",
       "      <td>0.860506</td>\n",
       "      <td>0.259207</td>\n",
       "      <td>false</td>\n",
       "    </tr>\n",
       "    <tr>\n",
       "      <th>999</th>\n",
       "      <td>0.667977</td>\n",
       "      <td>0.844128</td>\n",
       "      <td>0.509894</td>\n",
       "      <td>0.842049</td>\n",
       "      <td>0.795668</td>\n",
       "      <td>0.159685</td>\n",
       "      <td>0.299997</td>\n",
       "      <td>0.759339</td>\n",
       "      <td>0.051593</td>\n",
       "      <td>0.100935</td>\n",
       "      <td>false</td>\n",
       "    </tr>\n",
       "  </tbody>\n",
       "</table>\n",
       "<p>1000 rows × 11 columns</p>\n",
       "</div>"
      ],
      "text/plain": [
       "           x1        x2        x3        x4        x5        x6        x7  \\\n",
       "0    0.527041  0.285879  0.338183  0.659858  0.982471  0.076392  0.722569   \n",
       "1    0.627158  0.961025  0.650158  0.097692  0.185465  0.149553  0.087355   \n",
       "2    0.626641  0.503461  0.122321  0.846249  0.245763  0.658295  0.648249   \n",
       "3    0.463172  0.639930  0.267017  0.966319  0.220102  0.584191  0.220422   \n",
       "4    0.854881  0.075517  0.840727  0.219801  0.624141  0.076994  0.159599   \n",
       "..        ...       ...       ...       ...       ...       ...       ...   \n",
       "995  0.668780  0.423355  0.746432  0.470368  0.380970  0.220031  0.865534   \n",
       "996  0.976170  0.706929  0.421577  0.541893  0.914566  0.732941  0.862013   \n",
       "997  0.290446  0.163570  0.279508  0.578274  0.651417  0.798303  0.536749   \n",
       "998  0.802898  0.811415  0.461369  0.592210  0.018917  0.391390  0.168283   \n",
       "999  0.667977  0.844128  0.509894  0.842049  0.795668  0.159685  0.299997   \n",
       "\n",
       "           x8        x9       x10      y  \n",
       "0    0.020385  0.782828  0.302115   true  \n",
       "1    0.995233  0.459677  0.220911   true  \n",
       "2    0.991912  0.659397  0.603749  false  \n",
       "3    0.531662  0.817508  0.093373   true  \n",
       "4    0.663906  0.427680  0.842951  false  \n",
       "..        ...       ...       ...    ...  \n",
       "995  0.036049  0.456383  0.073588   true  \n",
       "996  0.107662  0.539317  0.775490  false  \n",
       "997  0.549655  0.344469  0.131380   true  \n",
       "998  0.686851  0.860506  0.259207  false  \n",
       "999  0.759339  0.051593  0.100935  false  \n",
       "\n",
       "[1000 rows x 11 columns]"
      ]
     },
     "execution_count": 27,
     "metadata": {},
     "output_type": "execute_result"
    }
   ],
   "source": [
    "n = 1000\n",
    "\n",
    "X = np.random.random_sample((n,10)) \n",
    "\n",
    "y = (\n",
    "    2.5 * X[:, 0] \n",
    "    - 1.7 * X[:, 2] \n",
    "    + 0.8 * X[:, 4]**2\n",
    "    + np.sin(2 * np.pi * X[:, 6])     # ker so podatki v [0,1), damo periodično funkcijo\n",
    "    + 3.0 * np.log(X[:, 9] + 1) \n",
    "    + 0.1 * np.random.normal(n)  #šum\n",
    ")\n",
    "\n",
    "y_d = pd.cut(y, bins=2, labels=['true', 'false'])\n",
    "\n",
    "columns = [f\"x{i+1}\" for i in range(10)]\n",
    "df = pd.DataFrame(X, columns=columns)\n",
    "df[\"y\"] = y_d\n",
    "\n",
    "df"
   ]
  },
  {
   "cell_type": "markdown",
   "metadata": {},
   "source": [
    "2.b: Podatke razdeli na učno in testno množico. Razmerje med velikostjo učne in testne množice naj bo 4:1."
   ]
  },
  {
   "cell_type": "code",
   "execution_count": 28,
   "metadata": {},
   "outputs": [],
   "source": [
    "X_train, X_test, y_train, y_test = train_test_split(X, y_d, test_size = 0.2)"
   ]
  },
  {
   "cell_type": "markdown",
   "metadata": {},
   "source": [
    "2.c: Preveri razmerje med pozitivnimi (True) in negativnimi (False) vrednostmi ciljne spremenljivke znotraj celotne podatkovne množice, znotraj učne množice in znotraj testne množice. Se razmerja skladajo s tvojim pričakovanjem? Zakaj ja/ne?"
   ]
  },
  {
   "cell_type": "code",
   "execution_count": 29,
   "metadata": {},
   "outputs": [
    {
     "name": "stdout",
     "output_type": "stream",
     "text": [
      "cela:     0.5330\n",
      "učna:     0.5300\n",
      "testna:     0.5450\n"
     ]
    }
   ],
   "source": [
    "print(f\"cela:     {sum(y_d =='true')/len(y_d):.4f}\")\n",
    "\n",
    "print(f\"učna:     {sum(y_train =='true')/len(y_train):.4f}\")\n",
    "\n",
    "print(f\"testna:     {sum(y_test =='true')/len(y_test):.4f}\")"
   ]
  },
  {
   "cell_type": "markdown",
   "metadata": {},
   "source": [
    "2.d: Natreniraj model logistične regresije in oceni njegovo točnost na testni množici z metriko accuracy.\n",
    "\n",
    "<details>\n",
    "  <summary>Namig:</summary>\n",
    "\n",
    "  *Uporabi [napovedni model sklearn.linear_model.LogisticRegression](https://scikit-learn.org/stable/modules/generated/sklearn.linear_model.LogisticRegression.html) in [sklearn.metrics.accuracy_score()](https://scikit-learn.org/stable/modules/generated/sklearn.metrics.accuracy_score.html)*.\n",
    "\n",
    "</details>"
   ]
  },
  {
   "cell_type": "code",
   "execution_count": 30,
   "metadata": {},
   "outputs": [
    {
     "data": {
      "text/plain": [
       "0.885"
      ]
     },
     "execution_count": 30,
     "metadata": {},
     "output_type": "execute_result"
    }
   ],
   "source": [
    "from sklearn.linear_model import LogisticRegression\n",
    "\n",
    "log_reg = LogisticRegression().fit(X_train, y_train)\n",
    "pred = log_reg.predict(X_test)\n",
    "\n",
    "from sklearn.metrics import accuracy_score\n",
    "\n",
    "pred\n",
    "accuracy = accuracy_score(y_test, pred)\n",
    "accuracy"
   ]
  },
  {
   "cell_type": "markdown",
   "metadata": {},
   "source": [
    "2.e: Odgovori na naslednja vprašanja:\n",
    "- Kateri koeficienti spremenljivk pozitivno korelirajo s ciljno spremenljivko in kateri negativno?\n",
    "- Katera spremenljivka najbolj vpliva na napoved modela?\n",
    "- Kako bi brez klica metode LinearRegression.predict() ugotovil vrednost, ki bi jo model napovedal za vektor ničel?\n",
    "- Kolikšna je razlika med napako na učni in testni množici?\n",
    "- Koliko na točnost vplivajo spremenljivke, ki se v ciljni funkciji ne pojavijo?"
   ]
  },
  {
   "cell_type": "code",
   "execution_count": 31,
   "metadata": {},
   "outputs": [
    {
     "name": "stdout",
     "output_type": "stream",
     "text": [
      "[[-5.68173355  0.28458329  3.40223176 -0.24141429 -2.24685548 -0.3958299\n",
      "   4.17601414 -0.51955006 -0.26513708 -4.20995595]]\n",
      "Intercept: [3.16857064]\n",
      "\n",
      "acc (train): 0.8688\n",
      "acc (test):  0.8850\n",
      "Razlika:     0.0085\n"
     ]
    }
   ],
   "source": [
    "coefs = log_reg.coef_\n",
    "print(coefs)\n",
    "\n",
    "print(\"Intercept:\", log_reg.intercept_)\n",
    "\n",
    "pred_train= log_reg.predict(X_train)\n",
    "\n",
    "acc_train = accuracy_score(y_train, pred_train )\n",
    "acc_test = accuracy_score(y_test, pred)\n",
    "\n",
    "print(f\"\\nacc (train): {acc_train:.4f}\")\n",
    "print(f\"acc (test):  {acc_test:.4f}\")\n",
    "print(f\"Razlika:     {abs(mse_train - mse_test):.4f}\")"
   ]
  },
  {
   "cell_type": "markdown",
   "metadata": {},
   "source": [
    "2.f: Natreniraj model linearne regresije in ga primerjaj z modelom logistične regresije. Lahko pri napovedih opaziš kaj nenavadnega?"
   ]
  },
  {
   "cell_type": "code",
   "execution_count": 32,
   "metadata": {},
   "outputs": [
    {
     "name": "stdout",
     "output_type": "stream",
     "text": [
      "Logistična regresija - prve napovedi: ['true' 'false' 'true' 'false' 'true' 'true' 'false' 'false' 'true' 'true']\n",
      "Linearna regresija - prve napovedi: [ 99.83673669 102.67739211 101.04847429 102.98309147 100.6699106\n",
      " 100.41169438 102.72250256 102.47234981  99.92288799 100.80792473]\n"
     ]
    }
   ],
   "source": [
    "pred_lin = reg.predict(X_test)\n",
    "y_binary = (pred_lin > np.median(pred_lin))\n",
    "\n",
    "pred_log = log_reg.predict(X_test)\n",
    "\n",
    "print(\"Logistična regresija - prve napovedi:\", pred_log[:10])\n",
    "print(\"Linearna regresija - prve napovedi:\", pred_lin[:10])\n",
    "\n"
   ]
  },
  {
   "cell_type": "markdown",
   "metadata": {},
   "source": [
    "## Bonus: Primerjava linearnih modelov z modelom k-najbližjih sosedov"
   ]
  },
  {
   "cell_type": "markdown",
   "metadata": {},
   "source": [
    "B.a: Premisli, kakšen vpliv ima domena/razpon podatkov na linearne modele in kakšnega na model k-najbližjih sosedov."
   ]
  },
  {
   "cell_type": "markdown",
   "metadata": {},
   "source": [
    "**Linearni modeli** so invariantni na linearne transformacije spremenljivk (če standardiziraš, dodaš konstanto, spremeniš mersko enoto):\n",
    "\n",
    "Vpliv razpona je torej zanemarljiv za napoved z linearnim modelom, a pomemben za interpretacijo koeficientov (veliki razponi → majhni koeficienti in obratno).\n",
    "\n",
    "**k-NN** je razdaljni model: odloča na podlagi evklidske (ali druge) razdalje med točkami.\n",
    "\n",
    "Če ena spremenljivka ima večji razpon kot druge, bo dominirala razdaljo.\n",
    "\n",
    "Zato pri k-NN (in nasploh pri razdaljnih modelih) vedno standardiziramo ali normaliziramo podatke, da imajo vse spremenljivke primerljivo težo."
   ]
  },
  {
   "cell_type": "markdown",
   "metadata": {},
   "source": [
    "B.b: Primerjaj točnost linearne regresije s točnostjo modela k-najbližjih sosedov pri napovedovanju numeričnih spremenljivk. Uporabi kodo iz naloge 1."
   ]
  },
  {
   "cell_type": "code",
   "execution_count": 34,
   "metadata": {},
   "outputs": [
    {
     "name": "stdout",
     "output_type": "stream",
     "text": [
      "rmse za knn 0.6131886437742833\n",
      "rmse za lin reg 0.44692948374767516\n"
     ]
    }
   ],
   "source": [
    "from sklearn.neighbors import KNeighborsRegressor\n",
    "\n",
    "#uporabimo y ko ta ni diskretiziran\n",
    "X_train, X_test, y_train, y_test = train_test_split(X, y, test_size = 0.2)\n",
    "\n",
    "# Instanciramo model\n",
    "knn = KNeighborsRegressor(5)\n",
    "# Naučimo model\n",
    "\n",
    "knn_lin = knn.fit(X_train, y_train)\n",
    "\n",
    "rmse_test_knn = root_mean_squared_error(y_test, knn_lin.predict(X_test))\n",
    "print('rmse za knn', rmse_test_knn)\n",
    "print('rmse za lin reg', RMSE)"
   ]
  },
  {
   "cell_type": "markdown",
   "metadata": {},
   "source": [
    "B.c: Primerjaj točnost logistične regresije s točnostjo modela k-najbližjih sosedov pri napovedovanju diskretnih spremenljivk. Uporabi kodo iz naloge 2."
   ]
  },
  {
   "cell_type": "code",
   "execution_count": 37,
   "metadata": {},
   "outputs": [
    {
     "name": "stdout",
     "output_type": "stream",
     "text": [
      "acc za knn 0.805\n",
      "acc za log reg 0.885\n"
     ]
    }
   ],
   "source": [
    "from sklearn.neighbors import KNeighborsClassifier\n",
    "\n",
    "#uporabimo y ko ta ni diskretiziran\n",
    "X_train, X_test, y_train, y_test = train_test_split(X, y_d, test_size = 0.2)\n",
    "\n",
    "# Instanciramo model\n",
    "knn_class = KNeighborsClassifier(5)\n",
    "# Naučimo model\n",
    "\n",
    "knn_fit_class = knn_class.fit(X_train, y_train)\n",
    "pred = knn_fit_class.predict(X_test)\n",
    "\n",
    "acc_test_knn = accuracy_score(y_test, pred)\n",
    "\n",
    "print('acc za knn', acc_test_knn)\n",
    "print('acc za log reg', accuracy)"
   ]
  },
  {
   "cell_type": "markdown",
   "metadata": {},
   "source": [
    "B.d: Najdi omejitev, ki se pojavi pri linearni regresiji in se ne pojavi pri modelu k-najbližjih sosedov in omejitev, ki se pojavi pri modelu k-najbližjih sosedov in se ne pojavi pri linearni regresiji."
   ]
  },
  {
   "cell_type": "markdown",
   "metadata": {},
   "source": [
    "Linearni model – omejitev: predpostavlja linearno zvezo med značilkami in ciljem (slabo za nelinearne odnose).\n",
    "\n",
    "k-NN – omejitev: visoka računska zahtevnost in problem dimenzionalnosti (slabo za velike podatke in veliko število značilk)."
   ]
  }
 ],
 "metadata": {
  "kernelspec": {
   "display_name": "ITIAP",
   "language": "python",
   "name": "python3"
  },
  "language_info": {
   "codemirror_mode": {
    "name": "ipython",
    "version": 3
   },
   "file_extension": ".py",
   "mimetype": "text/x-python",
   "name": "python",
   "nbconvert_exporter": "python",
   "pygments_lexer": "ipython3",
   "version": "3.12.11"
  }
 },
 "nbformat": 4,
 "nbformat_minor": 2
}
