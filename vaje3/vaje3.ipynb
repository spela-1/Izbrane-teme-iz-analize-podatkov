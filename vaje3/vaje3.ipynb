{
 "cells": [
  {
   "cell_type": "markdown",
   "metadata": {},
   "source": [
    "# Vaje 3: Merjenje napovedne napake modela"
   ]
  },
  {
   "cell_type": "markdown",
   "metadata": {},
   "source": [
    "## Naloga 1: Prečno preverjanje in stabilnost modela"
   ]
  },
  {
   "cell_type": "code",
   "execution_count": 2,
   "metadata": {},
   "outputs": [],
   "source": [
    "import numpy as np\n",
    "\n",
    "# Preberemo podatke shranje v numpy formatu (s funkcijo numpy.save(pot, array))\n",
    "data = np.load(\"vaje3_1.npy\")\n",
    "X = data[:, :-1]\n",
    "y = data[:, -1]"
   ]
  },
  {
   "cell_type": "markdown",
   "metadata": {},
   "source": [
    "1.a: Preveri (povprečno) točnost linearne regresije s petkratnim prečnim preverjanjem. Kako stabilen je model oz. kakšna je varianca dobljenih napak?\n",
    "\n",
    "<details>\n",
    "  <summary>Namig:</summary>\n",
    "\n",
    "  *Pomagaj si z [objektom sklearn.model_selection.KFold](https://scikit-learn.org/stable/modules/generated/sklearn.model_selection.KFold.html) in njegovo metodo split(X)*.\n",
    "   \n",
    "</details>"
   ]
  },
  {
   "cell_type": "code",
   "execution_count": 22,
   "metadata": {},
   "outputs": [
    {
     "name": "stdout",
     "output_type": "stream",
     "text": [
      "Povprečna napaka (MSE): 0.0339\n",
      "Varianca napak: 0.000011\n"
     ]
    }
   ],
   "source": [
    "import pandas as pd\n",
    "from sklearn.model_selection import train_test_split\n",
    "from sklearn.linear_model import LinearRegression\n",
    "from sklearn.metrics import mean_squared_error, r2_score\n",
    "\n",
    "\n",
    "from sklearn.model_selection import KFold\n",
    "kf = KFold()\n",
    "n=kf.get_n_splits() # defult je petkratno prečno preverjanje\n",
    "\n",
    "errors = []\n",
    "\n",
    "data = kf.split(X, y)\n",
    "\n",
    "for train_index, test_index in data:\n",
    "    X_train = X[train_index,:]\n",
    "    y_train = y[train_index]\n",
    "    model = LinearRegression()\n",
    "    model.fit(X_train, y_train)\n",
    "\n",
    "    X_test = X[test_index,:]\n",
    "    y_test = y[test_index]\n",
    "    pred = model.predict(X_test)\n",
    "    mse = mean_squared_error(y_test, pred)\n",
    "    errors.append(mse)\n",
    "\n",
    "mean_error = np.mean(errors)\n",
    "var_error = np.var(errors)\n",
    "\n",
    "print(f\"Povprečna napaka (MSE): {mean_error:.4f}\")\n",
    "print(f\"Varianca napak: {var_error:.6f}\")\n"
   ]
  },
  {
   "cell_type": "markdown",
   "metadata": {},
   "source": [
    "1.b: S prečnim preverjanjem sestavi pet modelov linearne regresije ter si (v matriko velikosti 5x4) shrani njihove začetne vrednosti in koeficiente. Se istoležni koeficienti v različnih vzorcih (Foldih) razlikujejo? Za koliko?"
   ]
  },
  {
   "cell_type": "code",
   "execution_count": 25,
   "metadata": {},
   "outputs": [
    {
     "name": "stdout",
     "output_type": "stream",
     "text": [
      "zacetne vrednosti:  [np.float64(-0.18415938615951566), np.float64(-0.19639105256353862), np.float64(-0.16964681623020406), np.float64(-0.15786318095711271), np.float64(-0.18573745789261986)]\n",
      "koeficienti\n"
     ]
    },
    {
     "data": {
      "text/plain": [
       "[array([1.50743854, 2.43282336, 1.47957335]),\n",
       " array([1.52647655, 2.4416169 , 1.47915122]),\n",
       " array([1.51169294, 2.4205532 , 1.46727743]),\n",
       " array([1.48666751, 2.43633069, 1.47178237]),\n",
       " array([1.49966098, 2.42805102, 1.50079499])]"
      ]
     },
     "execution_count": 25,
     "metadata": {},
     "output_type": "execute_result"
    }
   ],
   "source": [
    "kf = KFold()\n",
    "n=kf.get_n_splits() # defult je petkratno prečno preverjanje\n",
    "\n",
    "koef = []\n",
    "zac_vred = []\n",
    "\n",
    "data = kf.split(X, y)\n",
    "\n",
    "for train_index, test_index in data:\n",
    "    X_train = X[train_index,:]\n",
    "    y_train = y[train_index]\n",
    "    model = LinearRegression()\n",
    "    model.fit(X_train, y_train)\n",
    "\n",
    "    koef.append(model.coef_)\n",
    "    zac_vred.append(model.intercept_)\n",
    "\n",
    "\n",
    "\n",
    "print('zacetne vrednosti: ', zac_vred)\n",
    "print('koeficienti')\n",
    "koef"
   ]
  },
  {
   "cell_type": "markdown",
   "metadata": {},
   "source": [
    "1.c: Podatkom dodaj spremenljivke drugega reda ($x_1^2$, $x_1\\cdot x_2$, $x_1\\cdot x_3$, $x_2^2$, ...). Stolpce lahko združiš s funkcijo numpy.concatenate(seznam stolpcev, axis=1). "
   ]
  },
  {
   "cell_type": "code",
   "execution_count": 53,
   "metadata": {},
   "outputs": [],
   "source": [
    "\n",
    "x12 = (X[:, 0] **2).reshape(-1, 1)\n",
    "x22 = (X[:, 1] **2).reshape(-1, 1)\n",
    "x32 = (X[:, 2] **2).reshape(-1, 1)\n",
    "\n",
    "x1x2 = (X[:, 0] * (X[:, 1])).reshape(-1, 1)\n",
    "x2x3 = (X[:, 1] * (X[:, 2])).reshape(-1, 1)\n",
    "x1x3 = (X[:, 0] * (X[:, 2])).reshape(-1, 1)\n",
    "\n",
    "\n",
    "X_2 = np.concatenate([X, x12, x22, x32, x1x2, x2x3, x1x3], axis=1)\n"
   ]
  },
  {
   "cell_type": "markdown",
   "metadata": {},
   "source": [
    "1.d: Preveri točnost linearne regresije na podatkih iz naloge 1.c s petkratnim prečnim preverjanjem. Se koeficienti modela bolj ali manj razlikujejo med različnimi vzorci?"
   ]
  },
  {
   "cell_type": "code",
   "execution_count": 56,
   "metadata": {},
   "outputs": [
    {
     "name": "stdout",
     "output_type": "stream",
     "text": [
      "zacetne vrednosti:  [np.float64(-0.1569981505042164), np.float64(-0.184156344916925), np.float64(-0.15732876543555152), np.float64(-0.1461827843167276), np.float64(-0.15551723813637164)]\n",
      "koeficienti\n"
     ]
    },
    {
     "data": {
      "text/plain": [
       "[array([ 1.79941886,  2.63834023,  1.64488464, -0.76913631, -1.01879069,\n",
       "        -0.48233522,  0.95692407,  0.65824361, -0.01094716]),\n",
       " array([ 1.87320376,  2.68345029,  1.6475676 , -0.79710953, -1.05498166,\n",
       "        -0.47580426,  0.94622875,  0.64410402, -0.04115949]),\n",
       " array([ 1.82902071,  2.63787618,  1.63662872, -0.75988247, -1.05697745,\n",
       "        -0.46979694,  0.9632497 ,  0.68113632, -0.04824938]),\n",
       " array([ 1.79768141,  2.65642456,  1.6333356 , -0.76658894, -1.09087951,\n",
       "        -0.46939182,  1.00748357,  0.68207456, -0.04180794]),\n",
       " array([ 1.7823927 ,  2.65231105,  1.67674674, -0.7542998 , -1.07344501,\n",
       "        -0.5209593 ,  0.98291144,  0.6982056 , -0.02695304])]"
      ]
     },
     "execution_count": 56,
     "metadata": {},
     "output_type": "execute_result"
    }
   ],
   "source": [
    "kf = KFold()\n",
    "n=kf.get_n_splits() # defult je petkratno prečno preverjanje\n",
    "\n",
    "koef = []\n",
    "zac_vred = []\n",
    "\n",
    "data = kf.split(X_2, y)\n",
    "\n",
    "for train_index, test_index in data:\n",
    "    X_train = X_2[train_index,:]\n",
    "    y_train = y[train_index]\n",
    "    model = LinearRegression()\n",
    "    model.fit(X_train, y_train)\n",
    "\n",
    "    koef.append(model.coef_)\n",
    "    zac_vred.append(model.intercept_)\n",
    "\n",
    "\n",
    "\n",
    "print('zacetne vrednosti: ', zac_vred)\n",
    "print('koeficienti')\n",
    "koef"
   ]
  },
  {
   "cell_type": "markdown",
   "metadata": {},
   "source": [
    "## Naloga 2:  Stratificirano vzorčenje"
   ]
  },
  {
   "cell_type": "code",
   "execution_count": 57,
   "metadata": {},
   "outputs": [],
   "source": [
    "# Preberemo podatke iz datoteke vaje3_2.npz. Podatke x, y lahko shranimo v datoteko s končnico npz z uporabo funkcije numpy.savez(pot, x=x, y=y)\n",
    "data = np.load(\"vaje3_2.npz\")\n",
    "# Podatke shranimo v spremenljivko x\n",
    "x = data[\"x\"]\n",
    "# Ciljne vrednosti shranimo v spremenljivko y\n",
    "y = data[\"y\"]"
   ]
  },
  {
   "cell_type": "markdown",
   "metadata": {},
   "source": [
    "2.a: Preveri točnost logistične regresije s petkratnim prečnim preverjanjem. Izpiši točnost modela glede na metriko \"klasifikacijska točnost\" (accuracy) v vsakem vzorcu. Opaziš kaj nenavadnega?"
   ]
  },
  {
   "cell_type": "code",
   "execution_count": 62,
   "metadata": {},
   "outputs": [
    {
     "name": "stdout",
     "output_type": "stream",
     "text": [
      "Točnost v posameznem vzorcu (fold): [1.0, 1.0, 1.0, 0.995, 0.0]\n",
      "Povprečna točnost: 0.799\n",
      "Varianca točnosti: 0.15960400000000002\n"
     ]
    }
   ],
   "source": [
    "from sklearn.linear_model import LogisticRegression\n",
    "from sklearn.metrics import accuracy_score\n",
    "\n",
    "\n",
    "# X, y = tvoji podatki\n",
    "kf = KFold(n_splits=5, shuffle= False)\n",
    "model = LogisticRegression(max_iter=1000)\n",
    "\n",
    "accuracies = []\n",
    "\n",
    "for train_index, test_index in kf.split(X):\n",
    "    X_train, X_test = X[train_index], X[test_index]\n",
    "    y_train, y_test = y[train_index], y[test_index]\n",
    "    \n",
    "    model.fit(X_train, y_train)\n",
    "    y_pred = model.predict(X_test)\n",
    "    \n",
    "    acc = accuracy_score(y_test, y_pred)\n",
    "    accuracies.append(acc)\n",
    "\n",
    "print(\"Točnost v posameznem vzorcu (fold):\", accuracies)\n",
    "print(\"Povprečna točnost:\", np.mean(accuracies))\n",
    "print(\"Varianca točnosti:\", np.var(accuracies))\n",
    "#model je dost stabilen, razultati niso nenavadni ko je kf = KFold(n_splits=5, shuffle=True, random_state=42)\n",
    "#"
   ]
  },
  {
   "cell_type": "markdown",
   "metadata": {},
   "source": [
    "Podatki se ne premešajo, ampak se razdelijo zaporedno glede na vrstni red v X in y;\n",
    "če so podatki urejeni po razredu (npr. najprej vsi “0”, potem vsi “1”), bodo nekateri foldi vsebovali samo en razred.\n",
    "V takem primeru model v tistih foldih:\n",
    "nima podatkov o drugem razredu (npr. vidi samo “0” pri učenju),\n",
    "zato se ne nauči razlikovati med razredi,\n",
    "in v testnem delu, kjer nastopa drugi razred, napove vse narobe → accuracy = 0.0."
   ]
  },
  {
   "cell_type": "markdown",
   "metadata": {},
   "source": [
    "2.b: Za vsak vzorec podatkov izpiši število pozitivnih in negativnih vrednosti ciljne spremenljivke v učni in testni množici. Zakaj se je točnost modela v nalogi 2.a tako razlikovala med različnimi vzorci?"
   ]
  },
  {
   "cell_type": "code",
   "execution_count": 73,
   "metadata": {},
   "outputs": [
    {
     "name": "stdout",
     "output_type": "stream",
     "text": [
      "v splitu  1  je v testni množici 0 pozitnivnih vrednosti in  200 negativnih\n",
      "v splitu  2  je v testni množici 0 pozitnivnih vrednosti in  200 negativnih\n",
      "v splitu  3  je v testni množici 0 pozitnivnih vrednosti in  200 negativnih\n",
      "v splitu  4  je v testni množici 1 pozitnivnih vrednosti in  199 negativnih\n",
      "v splitu  5  je v testni množici 200 pozitnivnih vrednosti in  0 negativnih\n"
     ]
    }
   ],
   "source": [
    "i=0\n",
    "\n",
    "for train_index, test_index in kf.split(X):\n",
    "    i += 1\n",
    "    X_train, X_test = X[train_index], X[test_index]\n",
    "    y_train, y_test = y[train_index], y[test_index]\n",
    "\n",
    "    print('v splitu ', i , ' je v testni množici', sum(y_test == 1), 'pozitnivnih vrednosti in ',  sum(y_test == 0), 'negativnih')\n",
    "\n",
    "\n"
   ]
  },
  {
   "cell_type": "markdown",
   "metadata": {},
   "source": [
    "2.c: Če je distribucija ciljne spremenljivke v vzorcih učne in testne množice podobna originalni distribuciji ciljne spremenljivke, takemu vzorčenju rečemo stratificirano vzorčenje. Sestavi stratificirane vzorce za petkratno prečno preverjanje in preveri koliko pozitivnih in koliko negativnih primerov vsebuje učna in testna množica.\n",
    "\n",
    "\n",
    "<details>\n",
    "  <summary>Namig:</summary>\n",
    "\n",
    "  *Pomagaj si z [objektom sklearn.model_selection.StratifiedKFold](https://scikit-learn.org/stable/modules/generated/sklearn.model_selection.StratifiedKFold.html) in njegovo metodo split(x, y)*.\n",
    "   \n",
    "</details>"
   ]
  },
  {
   "cell_type": "code",
   "execution_count": null,
   "metadata": {},
   "outputs": [
    {
     "name": "stdout",
     "output_type": "stream",
     "text": [
      "v splitu  5  je v testni množici 40 pozitnivnih vrednosti in  160 negativnih\n",
      "v splitu  5  je v testni množici 40 pozitnivnih vrednosti in  160 negativnih\n",
      "v splitu  5  je v testni množici 40 pozitnivnih vrednosti in  160 negativnih\n",
      "v splitu  5  je v testni množici 40 pozitnivnih vrednosti in  160 negativnih\n",
      "v splitu  5  je v testni množici 41 pozitnivnih vrednosti in  159 negativnih\n"
     ]
    }
   ],
   "source": [
    "from sklearn.model_selection import StratifiedKFold\n",
    "skf = StratifiedKFold(n_splits=5, shuffle=True, random_state=42)\n",
    "\n",
    "i = 1\n",
    "for train_index, test_index in skf.split(X, y):\n",
    "    X_train, X_test = X[train_index], X[test_index]\n",
    "    y_train, y_test = y[train_index], y[test_index]\n",
    "\n",
    "\n",
    "    print('v splitu ', i , ' je v testni množici', sum(y_test == 1), 'pozitnivnih vrednosti in ',  sum(y_test == 0), 'negativnih')"
   ]
  },
  {
   "cell_type": "markdown",
   "metadata": {},
   "source": [
    "2.d: Preveri točnost logistične regresije s petkratnim prečnim preverjanjem na vzorcih, ki jih dobiš s stratificiranim vzorčenjem. So dobljeni modeli bolj stabilni? Si pričakoval/a da bodo dobljeni rezultati bolj stabilni?"
   ]
  },
  {
   "cell_type": "code",
   "execution_count": 76,
   "metadata": {},
   "outputs": [
    {
     "name": "stdout",
     "output_type": "stream",
     "text": [
      "Točnost v posameznem vzorcu (fold): [0.8, 0.8, 0.8, 0.8, 0.795]\n",
      "Povprečna točnost: 0.799\n",
      "Varianca točnosti: 4.0000000000000074e-06\n"
     ]
    }
   ],
   "source": [
    "kf = KFold(n_splits=5, shuffle= False)\n",
    "model = LogisticRegression(max_iter=1000)\n",
    "\n",
    "accuracies = []\n",
    "\n",
    "for train_index, test_index in skf.split(X, y):\n",
    "    X_train, X_test = X[train_index], X[test_index]\n",
    "    y_train, y_test = y[train_index], y[test_index]\n",
    "    \n",
    "    model.fit(X_train, y_train)\n",
    "    y_pred = model.predict(X_test)\n",
    "    \n",
    "    acc = accuracy_score(y_test, y_pred)\n",
    "    accuracies.append(acc)\n",
    "\n",
    "print(\"Točnost v posameznem vzorcu (fold):\", accuracies)\n",
    "print(\"Povprečna točnost:\", np.mean(accuracies))\n",
    "print(\"Varianca točnosti:\", np.var(accuracies))"
   ]
  },
  {
   "cell_type": "markdown",
   "metadata": {},
   "source": [
    "2.e: Pred stratificiranim vzorčenjem podatke še premešaj. To narediš tako, da objektu StratifiedKFold dodaš parameter shuffle=True. So sedaj rezultati bolj stabilni? Kaj se zgodi, če kodo poženeš večkrat?"
   ]
  },
  {
   "cell_type": "code",
   "execution_count": 86,
   "metadata": {},
   "outputs": [
    {
     "name": "stdout",
     "output_type": "stream",
     "text": [
      "Točnost v posameznem vzorcu (fold): [0.8, 0.8, 0.8, 0.8, 0.795]\n",
      "Povprečna točnost: 0.799\n",
      "Varianca točnosti: 4.0000000000000074e-06\n"
     ]
    }
   ],
   "source": [
    "kf = KFold(n_splits=5, shuffle= True)\n",
    "model = LogisticRegression(max_iter=1000)\n",
    "\n",
    "accuracies = []\n",
    "\n",
    "for train_index, test_index in skf.split(X, y):\n",
    "    X_train, X_test = X[train_index], X[test_index]\n",
    "    y_train, y_test = y[train_index], y[test_index]\n",
    "    \n",
    "    model.fit(X_train, y_train)\n",
    "    y_pred = model.predict(X_test)\n",
    "    \n",
    "    acc = accuracy_score(y_test, y_pred)\n",
    "    accuracies.append(acc)\n",
    "\n",
    "print(\"Točnost v posameznem vzorcu (fold):\", accuracies)\n",
    "print(\"Povprečna točnost:\", np.mean(accuracies))\n",
    "print(\"Varianca točnosti:\", np.var(accuracies))"
   ]
  },
  {
   "cell_type": "markdown",
   "metadata": {},
   "source": [
    "shuffle=True poskrbi, da se vrstni red podatkov premeša, zato noben fold ne vsebuje samo začetnega ali končnega dela podatkov.\n",
    "\n",
    "StratifiedKFold kljub temu ohrani enako razmerje med razredi v vsakem foldu.\n",
    "\n",
    "To vodi do bolj stabilnih in reprezentativnih ocen modela."
   ]
  },
  {
   "cell_type": "markdown",
   "metadata": {},
   "source": [
    "Opomba: Parameter shuffle naredi stratificirano vzorčenje stohastično s pomočjo generatorja naključnih števil. Z metodo numpy.random.seed(celo število) lahko poskrbimo, da bo generator vedno vračal ista naključna števil in bodo posledično naši eksperimenti ponovljivi.\n",
    "\n",
    "Pozor: Vpliv na točnost modela je le posledica random seed-a. V publikacijah se random uporablja le za ponovljivost eksperimentov (in ne kot: Najboljši rezultat dobimo pri random seed-u 18)"
   ]
  },
  {
   "cell_type": "markdown",
   "metadata": {},
   "source": [
    "## Dodatna naloga"
   ]
  },
  {
   "cell_type": "markdown",
   "metadata": {},
   "source": [
    "Premisli, kakšna bo povprečna točnost pri napovedovanju diskretne spremenljivke z modelom majority classifier (iz prvih vaj), če uporabimo poseben primer prečnega preverjena, ki ga imenujemo \"izpusti enega\" (leave-one-out). Predpostavi, da je ciljna spremenljivka enakomerno razporejena (vsaka ciljna vrednost se pojavi (število vrstic)/(število unikatnih vrednosti)-krat)."
   ]
  }
 ],
 "metadata": {
  "kernelspec": {
   "display_name": "ITIAP",
   "language": "python",
   "name": "python3"
  },
  "language_info": {
   "codemirror_mode": {
    "name": "ipython",
    "version": 3
   },
   "file_extension": ".py",
   "mimetype": "text/x-python",
   "name": "python",
   "nbconvert_exporter": "python",
   "pygments_lexer": "ipython3",
   "version": "3.12.11"
  }
 },
 "nbformat": 4,
 "nbformat_minor": 2
}
